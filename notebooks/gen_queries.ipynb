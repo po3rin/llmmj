{
 "cells": [
  {
   "cell_type": "code",
   "execution_count": 20,
   "metadata": {},
   "outputs": [],
   "source": [
    "import json\n",
    "import random"
   ]
  },
  {
   "cell_type": "code",
   "execution_count": 21,
   "metadata": {},
   "outputs": [],
   "source": [
    "# easy\n",
    "easy_han_list = [1, 2, 3, 4]\n",
    "easy_fu_list = [20, 25, 30, 40, 50, 60, 70]\n",
    "\n",
    "# medium\n",
    "medium_han_list = [1, 2, 3, 4, 5, 6, 7, 8, 9, 10, 11, 12, 13]\n",
    "medium_fu_list = [20, 25, 30, 40, 50, 60, 70, 80, 90, 100, 110]"
   ]
  },
  {
   "cell_type": "code",
   "execution_count": null,
   "metadata": {},
   "outputs": [],
   "source": [
    "queries = []\n",
    "\n",
    "while len(queries) < 20:\n",
    "    han = random.choice(easy_han_list)\n",
    "    fu = random.choice(easy_fu_list)\n",
    "    queries.append(\n",
    "        {\n",
    "            \"query\": f\"答えが{han}飜{fu}符になる麻雀点数計算問題を作ってください\",\n",
    "            \"answer\": {\"fu\": fu, \"han\": han},\n",
    "        }\n",
    "    )\n",
    "\n",
    "print(queries)\n",
    "\n",
    "with open(\"../dataset/queries.json\", \"w\") as f:\n",
    "    json.dump(queries, f, indent=4, ensure_ascii=False)"
   ]
  }
 ],
 "metadata": {
  "kernelspec": {
   "display_name": ".venv",
   "language": "python",
   "name": "python3"
  },
  "language_info": {
   "codemirror_mode": {
    "name": "ipython",
    "version": 3
   },
   "file_extension": ".py",
   "mimetype": "text/x-python",
   "name": "python",
   "nbconvert_exporter": "python",
   "pygments_lexer": "ipython3",
   "version": "3.12.11"
  }
 },
 "nbformat": 4,
 "nbformat_minor": 2
}
