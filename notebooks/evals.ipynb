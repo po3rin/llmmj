{
 "cells": [
  {
   "cell_type": "code",
   "execution_count": 1,
   "metadata": {},
   "outputs": [],
   "source": [
    "import os\n",
    "from dotenv import load_dotenv\n",
    "\n",
    "load_dotenv()\n",
    "\n",
    "# if not os.getenv(\"OPENAI_API_KEY\"):\n",
    "#     raise ValueError(\"OPENAI_API_KEY is not set in .env file\")\n",
    "if not os.getenv(\"ANTHROPIC_API_KEY\"):\n",
    "    raise ValueError(\"ANTHROPIC_API_KEY is not set in .env file\")\n",
    "if not os.getenv(\"GOOGLE_API_KEY\"):\n",
    "    raise ValueError(\"GOOGLE_API_KEY is not set in .env file\")\n",
    "if not os.getenv(\"DEEPSEEK_API_KEY\"):\n",
    "    raise ValueError(\"DEEPSEEK_API_KEY is not set in .env file\")"
   ]
  },
  {
   "cell_type": "code",
   "execution_count": 2,
   "metadata": {},
   "outputs": [
    {
     "name": "stderr",
     "output_type": "stream",
     "text": [
      "/Users/hiromu.nakamura.001/ghq/github.com/po3rin/llmmj/.venv/lib/python3.12/site-packages/tqdm/auto.py:21: TqdmWarning: IProgress not found. Please update jupyter and ipywidgets. See https://ipywidgets.readthedocs.io/en/stable/user_install.html\n",
      "  from .autonotebook import tqdm as notebook_tqdm\n"
     ]
    }
   ],
   "source": [
    "import sys\n",
    "import json\n",
    "import asyncio\n",
    "from typing import List, Dict, Any\n",
    "from datetime import datetime\n",
    "import pandas as pd\n",
    "\n",
    "# LangChain関連\n",
    "from langchain.llms import OpenAI\n",
    "from langchain.schema import HumanMessage\n",
    "from langchain.callbacks import get_openai_callback\n",
    "from langchain_anthropic import ChatAnthropic\n",
    "from langchain_openai import ChatOpenAI\n",
    "from langchain_deepseek import ChatDeepSeek\n",
    "from langchain_google_genai import ChatGoogleGenerativeAI\n",
    "\n",
    "# OpenAI Evals関連\n",
    "from evals.eval import Eval\n",
    "from evals.registry import Registry\n",
    "from evals.data import get_jsonl\n",
    "\n",
    "# Add the project root directory to Python path\n",
    "project_root = os.path.abspath(os.path.join(os.path.dirname(\"__file__\"), \"..\"))\n",
    "sys.path.append(project_root)\n",
    "from generator.generator import MahjongQuestionGenerator\n",
    "from prompts.prompts import (\n",
    "    generate_question_prompt_template,\n",
    "    generate_question_with_mcp_prompt_template,\n",
    ")\n",
    "from evalutor.evals import MahjongEvaluator, MultiModelEvaluator"
   ]
  },
  {
   "cell_type": "code",
   "execution_count": 3,
   "metadata": {},
   "outputs": [],
   "source": [
    "# Configure logging to see error messages\n",
    "import logging\n",
    "\n",
    "logging.basicConfig(level=logging.INFO)\n",
    "logger = logging.getLogger()"
   ]
  },
  {
   "cell_type": "code",
   "execution_count": 4,
   "metadata": {},
   "outputs": [],
   "source": [
    "# モデル設定（APIキーが必要）\n",
    "try:\n",
    "    # # OpenAI GPT-4\n",
    "    # gpt4 = ChatOpenAI(model_name=\"gpt-4o\", temperature=0)\n",
    "\n",
    "    # Claude (Anthropic APIキーが必要)\n",
    "    claude_sonnet = ChatAnthropic(model=\"claude-sonnet-4-20250514\", temperature=0)\n",
    "    claude_opus = ChatAnthropic(model=\"claude-opus-4-20250514\", temperature=0)\n",
    "    claude_3_7_sonnet = ChatAnthropic(model=\"claude-3-7-sonnet-20250219\", temperature=0)\n",
    "\n",
    "    # Google Gemini\n",
    "    gemini = ChatGoogleGenerativeAI(\n",
    "        model=\"gemini-2.5-flash-preview-05-20\", temperature=0\n",
    "    )\n",
    "\n",
    "    # DeepSeek\n",
    "    deepseek = ChatDeepSeek(model=\"deepseek-chat\", temperature=0)\n",
    "\n",
    "except Exception as e:\n",
    "    print(f\"モデル初期化エラー: {e}\")\n",
    "    raise e"
   ]
  },
  {
   "cell_type": "code",
   "execution_count": 5,
   "metadata": {},
   "outputs": [
    {
     "data": {
      "text/plain": [
       "{'tiles': ['1m',\n",
       "  '2m',\n",
       "  '3m',\n",
       "  '4m',\n",
       "  '5m',\n",
       "  '6m',\n",
       "  '7m',\n",
       "  '8m',\n",
       "  '9m',\n",
       "  '2p',\n",
       "  '3p',\n",
       "  '4p',\n",
       "  '5z',\n",
       "  '5z'],\n",
       " 'melds': None,\n",
       " 'win_tile': '5z',\n",
       " 'dora_indicators': ['4z'],\n",
       " 'is_riichi': True,\n",
       " 'is_tsumo': False,\n",
       " 'is_ippatsu': False,\n",
       " 'is_rinshan': False,\n",
       " 'is_chankan': False,\n",
       " 'is_haitei': False,\n",
       " 'is_houtei': False,\n",
       " 'is_daburu_riichi': False,\n",
       " 'is_nagashi_mangan': False,\n",
       " 'is_tenhou': False,\n",
       " 'is_chiihou': False,\n",
       " 'is_renhou': False,\n",
       " 'is_open_riichi': False,\n",
       " 'player_wind': 'east',\n",
       " 'round_wind': 'east'}"
      ]
     },
     "execution_count": 5,
     "metadata": {},
     "output_type": "execute_result"
    }
   ],
   "source": [
    "# 評価システム初期化\n",
    "generator = MahjongQuestionGenerator(\n",
    "    model=claude_3_7_sonnet, query_template=generate_question_prompt_template\n",
    ")\n",
    "\n",
    "# Use the async version in Jupyter notebook\n",
    "generator.generate_question(query=\"答えが2翻20符になる問題を作ってください\")"
   ]
  },
  {
   "cell_type": "code",
   "execution_count": 6,
   "metadata": {},
   "outputs": [
    {
     "name": "stderr",
     "output_type": "stream",
     "text": [
      "WARNING:generator.generator:MCP toolkit setup is disabled in this version. Use use_mcp=False for now.\n"
     ]
    },
    {
     "data": {
      "text/plain": [
       "{'tiles': ['1m',\n",
       "  '2m',\n",
       "  '3m',\n",
       "  '4m',\n",
       "  '5m',\n",
       "  '6m',\n",
       "  '7m',\n",
       "  '8m',\n",
       "  '9m',\n",
       "  '2p',\n",
       "  '3p',\n",
       "  '4p',\n",
       "  '5z',\n",
       "  '5z'],\n",
       " 'melds': None,\n",
       " 'win_tile': '5z',\n",
       " 'dora_indicators': ['4z'],\n",
       " 'is_riichi': True,\n",
       " 'is_tsumo': False,\n",
       " 'is_ippatsu': False,\n",
       " 'is_rinshan': False,\n",
       " 'is_chankan': False,\n",
       " 'is_haitei': False,\n",
       " 'is_houtei': False,\n",
       " 'is_daburu_riichi': False,\n",
       " 'is_nagashi_mangan': False,\n",
       " 'is_tenhou': False,\n",
       " 'is_chiihou': False,\n",
       " 'is_renhou': False,\n",
       " 'is_open_riichi': False,\n",
       " 'player_wind': 'east',\n",
       " 'round_wind': 'east'}"
      ]
     },
     "execution_count": 6,
     "metadata": {},
     "output_type": "execute_result"
    }
   ],
   "source": [
    "# 評価システム初期化(with mcp)\n",
    "generator = MahjongQuestionGenerator(\n",
    "    model=claude_3_7_sonnet, use_mcp=True, query_template=generate_question_with_mcp_prompt_template\n",
    ")\n",
    "\n",
    "# Use the async version in Jupyter notebook\n",
    "generator.generate_question(query=\"答えが2翻20符になる問題を作ってください\")"
   ]
  },
  {
   "cell_type": "code",
   "execution_count": 7,
   "metadata": {},
   "outputs": [],
   "source": [
    "# dataset = [\n",
    "#     {\n",
    "#         \"query\": \"答えが2翻40符になる問題を作ってください\",\n",
    "#         \"answer\": {\n",
    "#             \"fu\": 40,\n",
    "#             \"han\": 2\n",
    "#         }\n",
    "#     }\n",
    "# ]"
   ]
  },
  {
   "cell_type": "code",
   "execution_count": 8,
   "metadata": {},
   "outputs": [],
   "source": [
    "# evaluator = MahjongEvaluator(generator=generator)\n",
    "# df = evaluator.evals(dataset=dataset)\n",
    "# df"
   ]
  },
  {
   "cell_type": "code",
   "execution_count": 9,
   "metadata": {},
   "outputs": [],
   "source": [
    "# e = MultiModelEvaluator(models=[claude_sonnet], query_template=generate_question_prompt_template)\n",
    "# df = e.evals(dataset)\n",
    "# df"
   ]
  },
  {
   "cell_type": "code",
   "execution_count": 10,
   "metadata": {},
   "outputs": [],
   "source": [
    "with open(\"../dataset/queries.min.json\", \"r\") as f:\n",
    "    dataset = json.load(f)"
   ]
  },
  {
   "cell_type": "code",
   "execution_count": 11,
   "metadata": {},
   "outputs": [],
   "source": [
    "# dataset"
   ]
  },
  {
   "cell_type": "code",
   "execution_count": 12,
   "metadata": {},
   "outputs": [],
   "source": [
    "models = {\n",
    "    # \"claude_sonnet\": claude_sonnet,\n",
    "    # \"claude_opus\": claude_opus,\n",
    "    # \"gemini\": gemini,\n",
    "    # \"deepseek\": deepseek\n",
    "}"
   ]
  },
  {
   "cell_type": "code",
   "execution_count": 13,
   "metadata": {},
   "outputs": [],
   "source": [
    "for k, m in models.items():\n",
    "    e = MultiModelEvaluator(\n",
    "        models=[m], query_template=generate_question_prompt_template\n",
    "    )\n",
    "    df = e.evals(dataset)\n",
    "\n",
    "    df.to_csv(\n",
    "        f\"../dist/evals-gen-question-raw-prompt-{k}-{datetime.now().strftime('%Y%m%d')}.csv\",\n",
    "        index=False,\n",
    "    )\n",
    "    print(f\"{k} done :)\")"
   ]
  }
 ],
 "metadata": {
  "kernelspec": {
   "display_name": ".venv",
   "language": "python",
   "name": "python3"
  },
  "language_info": {
   "codemirror_mode": {
    "name": "ipython",
    "version": 3
   },
   "file_extension": ".py",
   "mimetype": "text/x-python",
   "name": "python",
   "nbconvert_exporter": "python",
   "pygments_lexer": "ipython3",
   "version": "3.12.11"
  }
 },
 "nbformat": 4,
 "nbformat_minor": 2
}
