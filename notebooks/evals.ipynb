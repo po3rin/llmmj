{
 "cells": [
  {
   "cell_type": "markdown",
   "metadata": {},
   "source": [
    "## 点数計算問題生成評価"
   ]
  },
  {
   "cell_type": "code",
   "execution_count": 12,
   "metadata": {},
   "outputs": [],
   "source": [
    "import os\n",
    "import sys\n",
    "from datetime import datetime\n",
    "\n",
    "project_root = os.path.abspath(os.path.join(os.path.dirname(\"__file__\"), \"..\"))\n",
    "sys.path.append(project_root)"
   ]
  },
  {
   "cell_type": "code",
   "execution_count": null,
   "metadata": {},
   "outputs": [],
   "source": [
    "from exceptions import HandValidationError, ScoreCalculationError, JSONParseError"
   ]
  },
  {
   "cell_type": "code",
   "execution_count": 3,
   "metadata": {},
   "outputs": [],
   "source": [
    "import os\n",
    "\n",
    "from dotenv import load_dotenv\n",
    "\n",
    "load_dotenv()\n",
    "\n",
    "# if not os.getenv(\"OPENAI_API_KEY\"):\n",
    "#     raise ValueError(\"OPENAI_API_KEY is not set in .env file\")\n",
    "if not os.getenv(\"ANTHROPIC_API_KEY\"):\n",
    "    raise ValueError(\"ANTHROPIC_API_KEY is not set in .env file\")\n",
    "if not os.getenv(\"GOOGLE_API_KEY\"):\n",
    "    raise ValueError(\"GOOGLE_API_KEY is not set in .env file\")\n",
    "# if not os.getenv(\"DEEPSEEK_API_KEY\"):\n",
    "#     raise ValueError(\"DEEPSEEK_API_KEY is not set in .env file\")"
   ]
  },
  {
   "cell_type": "code",
   "execution_count": 4,
   "metadata": {},
   "outputs": [
    {
     "name": "stderr",
     "output_type": "stream",
     "text": [
      "/Users/hiromu.nakamura.001/ghq/github.com/po3rin/llmmj/.venv/lib/python3.12/site-packages/tqdm/auto.py:21: TqdmWarning: IProgress not found. Please update jupyter and ipywidgets. See https://ipywidgets.readthedocs.io/en/stable/user_install.html\n",
      "  from .autonotebook import tqdm as notebook_tqdm\n"
     ]
    }
   ],
   "source": [
    "import sys\n",
    "import json\n",
    "import pandas as pd\n",
    "\n",
    "# LangChain関連\n",
    "from langchain_anthropic import ChatAnthropic\n",
    "from langchain_deepseek import ChatDeepSeek\n",
    "from langchain_google_genai import (\n",
    "    ChatGoogleGenerativeAI,\n",
    ")  # Use the async version in Jupyter notebook\n",
    "\n",
    "project_root = os.path.abspath(os.path.join(os.path.dirname(\"__file__\"), \"..\"))"
   ]
  },
  {
   "cell_type": "code",
   "execution_count": 5,
   "metadata": {},
   "outputs": [],
   "source": [
    "# Configure logging to see error messages\n",
    "import logging\n",
    "\n",
    "logging.basicConfig(level=logging.ERROR)\n",
    "logger = logging.getLogger()\n",
    "\n",
    "os.environ[\"GOOGLE_ADK_LOG_LEVEL\"] = \"ERROR\""
   ]
  },
  {
   "cell_type": "code",
   "execution_count": 6,
   "metadata": {},
   "outputs": [],
   "source": [
    "# モデル設定（APIキーが必要）\n",
    "try:\n",
    "    # # OpenAI GPT-4\n",
    "    # gpt4 = ChatOpenAI(model_name=\"gpt-4o\", temperature=0)\n",
    "\n",
    "    # Claude (Anthropic APIキーが必要)\n",
    "    claude_sonnet = ChatAnthropic(model=\"claude-sonnet-4-20250514\", temperature=0)\n",
    "    # claude_opus = ChatAnthropic(model=\"claude-opus-4-20250514\", temperature=0)\n",
    "    claude_3_7_sonnet = ChatAnthropic(model=\"claude-3-7-sonnet-20250219\", temperature=0)\n",
    "\n",
    "    # Google Gemini\n",
    "    gemini = ChatGoogleGenerativeAI(\n",
    "        model=\"gemini-2.5-flash-preview-05-20\", temperature=0\n",
    "    )\n",
    "\n",
    "    # DeepSeek\n",
    "    deepseek = ChatDeepSeek(model=\"deepseek-chat\", temperature=0)\n",
    "\n",
    "except Exception as e:\n",
    "    print(f\"モデル初期化エラー: {e}\")\n",
    "    raise e"
   ]
  },
  {
   "cell_type": "markdown",
   "metadata": {},
   "source": [
    "### 実行環境設定"
   ]
  },
  {
   "cell_type": "code",
   "execution_count": 7,
   "metadata": {},
   "outputs": [],
   "source": [
    "DebugExec = False\n",
    "EvalExec = True\n",
    "USE_MIN_DATA = False"
   ]
  },
  {
   "cell_type": "markdown",
   "metadata": {},
   "source": [
    "### 動作確認"
   ]
  },
  {
   "cell_type": "code",
   "execution_count": 7,
   "metadata": {},
   "outputs": [],
   "source": [
    "if DebugExec:\n",
    "    from generator.generator import MahjongQuestionGenerator\n",
    "    from prompts.prompts import generate_question_prompt_template\n",
    "\n",
    "    generator = MahjongQuestionGenerator(\n",
    "        model=claude_3_7_sonnet, query_template=generate_question_prompt_template\n",
    "    )\n",
    "    try:\n",
    "        result = generator.generate_question(\n",
    "            query=\"Please give me a mahjong scoring problem. Give me a problem where the answer is 3 han and 50 fu.\"\n",
    "        )\n",
    "        print(result)\n",
    "    except JSONParseError | HandValidationError | ScoreCalculationError as e:\n",
    "        print(e)\n",
    "    except Exception:\n",
    "        raise"
   ]
  },
  {
   "cell_type": "code",
   "execution_count": 8,
   "metadata": {},
   "outputs": [],
   "source": [
    "if DebugExec:\n",
    "    from generator.generator import MahjongQuestionGenerator\n",
    "    from prompts.prompts import generate_question_with_cot_and_rule_prompt_template\n",
    "\n",
    "    generator = MahjongQuestionGenerator(\n",
    "        model=gemini, query_template=generate_question_with_cot_and_rule_prompt_template\n",
    "    )\n",
    "    try:\n",
    "        result = generator.generate_question(\n",
    "            query=\"Please give me a mahjong scoring problem. Give me a problem where the answer is 3 han and 50 fu.\"\n",
    "        )\n",
    "    except JSONParseError | HandValidationError | ScoreCalculationError as e:\n",
    "        print(e)\n",
    "    except Exception:\n",
    "        raise\n",
    "    print(result)"
   ]
  },
  {
   "cell_type": "code",
   "execution_count": 9,
   "metadata": {},
   "outputs": [],
   "source": [
    "# if DebugExec:\n",
    "#     from generator.generator import MahjongQuestionGenerator\n",
    "#     from prompts.prompts import generate_question_with_tools_prompt_template\n",
    "\n",
    "#     generator = MahjongQuestionGenerator(\n",
    "#         model=gemini,\n",
    "#         use_tools=True,\n",
    "#         query_template=generate_question_with_tools_prompt_template,\n",
    "#     )\n",
    "\n",
    "#     try:\n",
    "#         result = generator.generate_question(\n",
    "#             query=\"Please give me a mahjong scoring problem. Give me a problem where the answer is 3 han and 50 fu.\"\n",
    "#         )\n",
    "#         print(result)\n",
    "#     except (JSONParseError, HandValidationError, ScoreCalculationError) as e:\n",
    "#         logger.error(e)\n",
    "#         print(e)"
   ]
  },
  {
   "cell_type": "code",
   "execution_count": 10,
   "metadata": {},
   "outputs": [],
   "source": [
    "if not EvalExec:\n",
    "    raise ValueError(\"EvalExec is not set to True\")"
   ]
  },
  {
   "cell_type": "markdown",
   "metadata": {},
   "source": [
    "### 実験"
   ]
  },
  {
   "cell_type": "code",
   "execution_count": 9,
   "metadata": {},
   "outputs": [],
   "source": [
    "dataset_path = \"../dataset/queries.json\"\n",
    "if USE_MIN_DATA:\n",
    "    dataset_path = \"../dataset/queries.min.json\"\n",
    "\n",
    "with open(dataset_path, \"r\") as f:\n",
    "    dataset = json.load(f)"
   ]
  },
  {
   "cell_type": "code",
   "execution_count": 12,
   "metadata": {},
   "outputs": [],
   "source": [
    "models = {\n",
    "    \"claude_sonnet\": claude_sonnet,\n",
    "    \"gemini\": gemini,\n",
    "    # \"deepseek\": deepseek\n",
    "}"
   ]
  },
  {
   "cell_type": "code",
   "execution_count": null,
   "metadata": {},
   "outputs": [
    {
     "name": "stderr",
     "output_type": "stream",
     "text": [
      "ERROR:evaluator.libs:Error validating hand: Invalid win tile in hand. win_tile is not in tiles\n"
     ]
    },
    {
     "name": "stdout",
     "output_type": "stream",
     "text": [
      "claude_sonnet done :)\n",
      "gemini done :)\n"
     ]
    }
   ],
   "source": [
    "from evaluator.evaluator import MultiModelEvaluator\n",
    "from prompts.prompts import generate_question_prompt_template\n",
    "\n",
    "\n",
    "for k, m in models.items():\n",
    "    e = MultiModelEvaluator(\n",
    "        models=[m], query_template=generate_question_prompt_template\n",
    "    )\n",
    "    df = e.evals(dataset)\n",
    "\n",
    "    df.to_csv(\n",
    "        f\"../dist/zeroshot/evals-gen-question-raw-prompt-{k}-{datetime.now().strftime('%Y%m%d')}.csv\",\n",
    "        index=False,\n",
    "    )\n",
    "    print(f\"{k} done :)\")"
   ]
  },
  {
   "cell_type": "code",
   "execution_count": 14,
   "metadata": {},
   "outputs": [
    {
     "name": "stderr",
     "output_type": "stream",
     "text": [
      "ERROR:evaluator.libs:Error validating hand: Invalid tile count in hand. tiles is less than 14\n",
      "ERROR:evaluator.libs:Error validating hand: Invalid tile count in hand. tiles is less than 14\n",
      "ERROR:evaluator.libs:Error validating hand: Invalid tile count in hand. tiles is less than 14\n"
     ]
    }
   ],
   "source": [
    "from prompts.prompts import generate_question_with_cot_and_rule_prompt_template\n",
    "\n",
    "for k, v in models.items():\n",
    "    e = MultiModelEvaluator(\n",
    "        models=[v], query_template=generate_question_with_cot_and_rule_prompt_template\n",
    "    )\n",
    "    df = e.evals(dataset)\n",
    "\n",
    "    df.to_csv(\n",
    "        f\"../dist/cot_and_rule/evals-gen-question-with-cot-and-rule-prompt-{k}-{datetime.now().strftime('%Y%m%d')}.csv\",\n",
    "        index=False,\n",
    "    )"
   ]
  },
  {
   "cell_type": "code",
   "execution_count": 15,
   "metadata": {},
   "outputs": [],
   "source": [
    "# from prompts.prompts import generate_question_with_tools_prompt_template\n",
    "\n",
    "# for k, v in models.items():\n",
    "#     e = MultiModelEvaluator(\n",
    "#         models=[v],\n",
    "#         query_template=generate_question_with_tools_prompt_template,\n",
    "#         use_tools=True,\n",
    "#     )\n",
    "#     df = e.evals(dataset)\n",
    "\n",
    "#     df.to_csv(\n",
    "#         f\"../dist/tools/evals-gen-question-with-tools-prompt-{k}-{datetime.now().strftime('%Y%m%d')}.csv\",\n",
    "#         index=False,\n",
    "#     )"
   ]
  },
  {
   "cell_type": "code",
   "execution_count": 16,
   "metadata": {},
   "outputs": [],
   "source": [
    "from evaluator.agents_evaluator import MahjongMultiAgentsEvaluator\n",
    "\n",
    "evaluator = MahjongMultiAgentsEvaluator(runner_type=\"sequential\")\n",
    "\n",
    "df = evaluator.evals(dataset)"
   ]
  },
  {
   "cell_type": "code",
   "execution_count": 17,
   "metadata": {},
   "outputs": [],
   "source": [
    "df.to_csv(\n",
    "    f\"../dist/sequencial_multi_agents/evals-gen-question-with-sequential-agent-{datetime.now().strftime('%Y%m%d')}.csv\",\n",
    "    index=False,\n",
    ")"
   ]
  },
  {
   "cell_type": "code",
   "execution_count": 10,
   "metadata": {},
   "outputs": [],
   "source": [
    "from evaluator.agents_evaluator import MahjongMultiAgentsEvaluator\n",
    "\n",
    "evaluator = MahjongMultiAgentsEvaluator(runner_type=\"loop\")\n",
    "\n",
    "df = evaluator.evals(dataset)"
   ]
  },
  {
   "cell_type": "code",
   "execution_count": 13,
   "metadata": {},
   "outputs": [],
   "source": [
    "df.to_csv(\n",
    "    f\"../dist/loop_multi_agents/evals-gen-question-with-loop-multi-agents-{datetime.now().strftime('%Y%m%d')}.csv\",\n",
    "    index=False,\n",
    ")"
   ]
  },
  {
   "cell_type": "markdown",
   "metadata": {},
   "source": [
    "### 評価"
   ]
  },
  {
   "cell_type": "code",
   "execution_count": null,
   "metadata": {},
   "outputs": [],
   "source": [
    "import glob\n",
    "\n",
    "\n",
    "def result_by_model(name: str):\n",
    "    csv_files = glob.glob(f\"../dist/{name}/*.csv\")\n",
    "    print(f\"Found {len(csv_files)} CSV files:\")\n",
    "    for file in csv_files:\n",
    "        print(f\"  - {file}\")\n",
    "\n",
    "    # 各ファイルを読み込んでconcat\n",
    "    dfs = []\n",
    "    for file in csv_files:\n",
    "        df = pd.read_csv(file)\n",
    "        # ファイル名からモデル名を抽出\n",
    "        model_name = file.split(\"-\")[-2]  # 例: claude_sonnet\n",
    "        df[\"model\"] = model_name\n",
    "        dfs.append(df)\n",
    "\n",
    "    # 全てのデータを結合\n",
    "    df = pd.concat(dfs, ignore_index=True)\n",
    "\n",
    "    # 結果を格納するリスト\n",
    "    results = []\n",
    "    \n",
    "    for model in df[\"model\"].unique():\n",
    "        model_df = df[df[\"model\"] == model]\n",
    "        \n",
    "        # 基本統計\n",
    "        total_count = len(model_df)\n",
    "        correct_count = model_df[\"correct\"].sum()\n",
    "        correct_rate = round(correct_count / total_count, 3) if total_count > 0 else 0\n",
    "        error_count = model_df[\"is_error\"].sum()\n",
    "        error_rate = round(error_count / total_count, 3) if total_count > 0 else 0\n",
    "        \n",
    "        # 結果辞書を作成\n",
    "        result = {\n",
    "            \"Model\": model,\n",
    "            \"Total\": total_count,\n",
    "            \"Correct\": correct_count,\n",
    "            \"Accuracy\": correct_rate,\n",
    "            \"Errors\": error_count,\n",
    "            \"Error_Rate\": error_rate\n",
    "        }\n",
    "        \n",
    "        # エラータイプ別のカウントと率\n",
    "        error_df = model_df[model_df[\"is_error\"] == True]\n",
    "        error_types = error_df[\"error_type\"].value_counts()\n",
    "        \n",
    "        for error_type, count in error_types.items():\n",
    "            result[f\"Error_{error_type}_Count\"] = count\n",
    "            result[f\"Error_{error_type}_Rate\"] = round(count / total_count, 3)\n",
    "        \n",
    "        results.append(result)\n",
    "    \n",
    "    # DataFrameに変換\n",
    "    result_df = pd.DataFrame(results)\n",
    "    \n",
    "    # カラムの順序を整理\n",
    "    base_cols = [\"Model\", \"Total\", \"Correct\", \"Accuracy\", \"Errors\", \"Error_Rate\"]\n",
    "    error_cols = [col for col in result_df.columns if col not in base_cols]\n",
    "    result_df = result_df[base_cols + sorted(error_cols)]\n",
    "    \n",
    "    # NaNを0に置換\n",
    "    result_df = result_df.fillna(0)\n",
    "    \n",
    "    print(\"\\n=== Results Summary ===\")\n",
    "    print(result_df)\n",
    "    \n",
    "    return result_df"
   ]
  },
  {
   "cell_type": "code",
   "execution_count": 15,
   "metadata": {},
   "outputs": [
    {
     "name": "stdout",
     "output_type": "stream",
     "text": [
      "Found 2 CSV files:\n",
      "  - ../dist/zeroshot/evals-gen-question-raw-prompt-gemini-20250707.csv\n",
      "  - ../dist/zeroshot/evals-gen-question-raw-prompt-claude_sonnet-20250707.csv\n",
      "\n",
      "=== モデルごとの正解率 ===\n",
      "               総問題数  正解数   正解率\n",
      "model                         \n",
      "claude_sonnet    20    1  0.05\n",
      "gemini           20    6  0.30\n",
      "\n",
      "=== モデルごとのエラー率 ===\n",
      "               総問題数  エラー数  エラー率\n",
      "model                          \n",
      "claude_sonnet    20     2   0.1\n",
      "gemini           20     2   0.1\n"
     ]
    }
   ],
   "source": [
    "result_by_model(\"zeroshot\")"
   ]
  },
  {
   "cell_type": "code",
   "execution_count": 16,
   "metadata": {},
   "outputs": [
    {
     "name": "stdout",
     "output_type": "stream",
     "text": [
      "Found 2 CSV files:\n",
      "  - ../dist/cot_and_rule/evals-gen-question-with-cot-and-rule-prompt-claude_sonnet-20250707.csv\n",
      "  - ../dist/cot_and_rule/evals-gen-question-with-cot-and-rule-prompt-gemini-20250707.csv\n",
      "\n",
      "=== モデルごとの正解率 ===\n",
      "               総問題数  正解数   正解率\n",
      "model                         \n",
      "claude_sonnet    20    0  0.00\n",
      "gemini           20    9  0.45\n",
      "\n",
      "=== モデルごとのエラー率 ===\n",
      "               総問題数  エラー数  エラー率\n",
      "model                          \n",
      "claude_sonnet    20     4   0.2\n",
      "gemini           20     0   0.0\n"
     ]
    }
   ],
   "source": [
    "result_by_model(\"cot_and_rule\")"
   ]
  },
  {
   "cell_type": "code",
   "execution_count": 17,
   "metadata": {},
   "outputs": [],
   "source": [
    "# result_by_model(\"tools\")"
   ]
  },
  {
   "cell_type": "code",
   "execution_count": 18,
   "metadata": {},
   "outputs": [
    {
     "name": "stdout",
     "output_type": "stream",
     "text": [
      "Found 1 CSV files:\n",
      "  - ../dist/sequencial_multi_agents/evals-gen-question-with-sequential-agent-20250707.csv\n",
      "\n",
      "=== モデルごとの正解率 ===\n",
      "       総問題数  正解数   正解率\n",
      "model                 \n",
      "agent    20   11  0.55\n",
      "\n",
      "=== モデルごとのエラー率 ===\n",
      "       総問題数  エラー数  エラー率\n",
      "model                  \n",
      "agent    20     1  0.05\n"
     ]
    }
   ],
   "source": [
    "result_by_model(\"sequencial_multi_agents\")"
   ]
  },
  {
   "cell_type": "code",
   "execution_count": 20,
   "metadata": {},
   "outputs": [
    {
     "name": "stdout",
     "output_type": "stream",
     "text": [
      "Found 1 CSV files:\n",
      "  - ../dist/loop_multi_agents/evals-gen-question-with-loop-multi-agents-20250707.csv\n",
      "\n",
      "=== モデルごとの正解率 ===\n",
      "        総問題数  正解数  正解率\n",
      "model                 \n",
      "agents    20   18  0.9\n",
      "\n",
      "=== モデルごとのエラー率 ===\n",
      "        総問題数  エラー数  エラー率\n",
      "model                   \n",
      "agents    20     0   0.0\n"
     ]
    }
   ],
   "source": [
    "result_by_model(\"loop_multi_agents\")"
   ]
  }
 ],
 "metadata": {
  "kernelspec": {
   "display_name": ".venv",
   "language": "python",
   "name": "python3"
  },
  "language_info": {
   "codemirror_mode": {
    "name": "ipython",
    "version": 3
   },
   "file_extension": ".py",
   "mimetype": "text/x-python",
   "name": "python",
   "nbconvert_exporter": "python",
   "pygments_lexer": "ipython3",
   "version": "3.12.11"
  }
 },
 "nbformat": 4,
 "nbformat_minor": 2
}
