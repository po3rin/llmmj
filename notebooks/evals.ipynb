{
 "cells": [
  {
   "cell_type": "code",
   "execution_count": 1,
   "metadata": {},
   "outputs": [],
   "source": [
    "import os\n",
    "\n",
    "from dotenv import load_dotenv\n",
    "\n",
    "load_dotenv()\n",
    "\n",
    "# if not os.getenv(\"OPENAI_API_KEY\"):\n",
    "#     raise ValueError(\"OPENAI_API_KEY is not set in .env file\")\n",
    "if not os.getenv(\"ANTHROPIC_API_KEY\"):\n",
    "    raise ValueError(\"ANTHROPIC_API_KEY is not set in .env file\")\n",
    "if not os.getenv(\"GOOGLE_API_KEY\"):\n",
    "    raise ValueError(\"GOOGLE_API_KEY is not set in .env file\")\n",
    "# if not os.getenv(\"DEEPSEEK_API_KEY\"):\n",
    "#     raise ValueError(\"DEEPSEEK_API_KEY is not set in .env file\")"
   ]
  },
  {
   "cell_type": "code",
   "execution_count": null,
   "metadata": {},
   "outputs": [],
   "source": [
    "import sys\n",
    "import json\n",
    "import pandas as pd\n",
    "\n",
    "# LangChain関連\n",
    "from langchain_anthropic import ChatAnthropic\n",
    "from langchain_deepseek import ChatDeepSeek\n",
    "from langchain_google_genai import ChatGoogleGenerativeAI\n",
    "\n",
    "# OpenAI Evals関連\n",
    "\n",
    "# Add the project root directory to Python path\n",
    "project_root = os.path.abspath(os.path.join(os.path.dirname(\"__file__\"), \"..\"))\n",
    "sys.path.append(project_root)"
   ]
  },
  {
   "cell_type": "code",
   "execution_count": 3,
   "metadata": {},
   "outputs": [],
   "source": [
    "# Configure logging to see error messages\n",
    "import logging\n",
    "\n",
    "logging.basicConfig(level=logging.WARN)\n",
    "logger = logging.getLogger()\n",
    "\n",
    "os.environ[\"GOOGLE_ADK_LOG_LEVEL\"] = \"WARNING\""
   ]
  },
  {
   "cell_type": "code",
   "execution_count": 4,
   "metadata": {},
   "outputs": [],
   "source": [
    "# モデル設定（APIキーが必要）\n",
    "try:\n",
    "    # # OpenAI GPT-4\n",
    "    # gpt4 = ChatOpenAI(model_name=\"gpt-4o\", temperature=0)\n",
    "\n",
    "    # Claude (Anthropic APIキーが必要)\n",
    "    claude_sonnet = ChatAnthropic(model=\"claude-sonnet-4-20250514\", temperature=0)\n",
    "    # claude_opus = ChatAnthropic(model=\"claude-opus-4-20250514\", temperature=0)\n",
    "    claude_3_7_sonnet = ChatAnthropic(model=\"claude-3-7-sonnet-20250219\", temperature=0)\n",
    "\n",
    "    # Google Gemini\n",
    "    gemini = ChatGoogleGenerativeAI(\n",
    "        model=\"gemini-2.5-flash-preview-05-20\", temperature=0\n",
    "    )\n",
    "\n",
    "    # DeepSeek\n",
    "    deepseek = ChatDeepSeek(model=\"deepseek-chat\", temperature=0)\n",
    "\n",
    "except Exception as e:\n",
    "    print(f\"モデル初期化エラー: {e}\")\n",
    "    raise e"
   ]
  },
  {
   "cell_type": "code",
   "execution_count": null,
   "metadata": {},
   "outputs": [],
   "source": [
    "DebugExec = True\n",
    "USE_MIN_DATA = True"
   ]
  },
  {
   "cell_type": "code",
   "execution_count": 5,
   "metadata": {},
   "outputs": [],
   "source": [
    "if DebugExec:\n",
    "    from generator.generator import MahjongQuestionGenerator\n",
    "    from prompts.prompts import generate_question_prompt_template\n",
    "\n",
    "    generator = MahjongQuestionGenerator(\n",
    "        model=claude_3_7_sonnet, query_template=generate_question_prompt_template\n",
    "    )\n",
    "    result = generator.generate_question(\n",
    "        query=\"Please give me a mahjong scoring problem. Give me a problem where the answer is 3 han and 50 fu.\"\n",
    "    )\n",
    "    print(result)"
   ]
  },
  {
   "cell_type": "code",
   "execution_count": 6,
   "metadata": {},
   "outputs": [],
   "source": [
    "if DebugExec:\n",
    "    from generator.generator import MahjongQuestionGenerator\n",
    "    from prompts.prompts import generate_question_with_cot_and_rule_prompt_template\n",
    "\n",
    "    generator = MahjongQuestionGenerator(\n",
    "        model=gemini, query_template=generate_question_with_cot_and_rule_prompt_template\n",
    "    )\n",
    "    result = generator.generate_question(\n",
    "        query=\"Please give me a mahjong scoring problem. Give me a problem where the answer is 3 han and 50 fu.\"\n",
    "    )\n",
    "    print(result)"
   ]
  },
  {
   "cell_type": "code",
   "execution_count": 7,
   "metadata": {},
   "outputs": [],
   "source": [
    "if DebugExec:\n",
    "    from generator.generator import MahjongQuestionGenerator\n",
    "    from prompts.prompts import generate_question_with_tools_prompt_template\n",
    "\n",
    "    generator = MahjongQuestionGenerator(\n",
    "        model=gemini,\n",
    "        use_tools=True,\n",
    "        query_template=generate_question_with_tools_prompt_template,\n",
    "    )\n",
    "\n",
    "    # Use the async version in Jupyter notebook\n",
    "    result = generator.generate_question(\n",
    "        query=\"Please give me a mahjong scoring problem. Give me a problem where the answer is 3 han and 50 fu.\"\n",
    "    )\n",
    "    print(result)"
   ]
  },
  {
   "cell_type": "code",
   "execution_count": 9,
   "metadata": {},
   "outputs": [],
   "source": [
    "dataset_path = \"../dataset/queries.json\"\n",
    "if USE_MIN_DATA:\n",
    "    dataset_path = \"../dataset/queries.min.json\"\n",
    "\n",
    "with open(dataset_path, \"r\") as f:\n",
    "    dataset = json.load(f)"
   ]
  },
  {
   "cell_type": "code",
   "execution_count": 12,
   "metadata": {},
   "outputs": [],
   "source": [
    "models = {\n",
    "    \"claude_sonnet\": claude_sonnet,\n",
    "    \"gemini\": gemini,\n",
    "    # \"deepseek\": deepseek\n",
    "}"
   ]
  },
  {
   "cell_type": "code",
   "execution_count": null,
   "metadata": {},
   "outputs": [],
   "source": [
    "from datetime import datetime\n",
    "\n",
    "from evaluator.evaluator import MultiModelEvaluator\n",
    "from prompts.prompts import generate_question_prompt_template\n",
    "\n",
    "\n",
    "for k, m in models.items():\n",
    "    e = MultiModelEvaluator(\n",
    "        models=[m], query_template=generate_question_prompt_template\n",
    "    )\n",
    "    df = e.evals(dataset)\n",
    "\n",
    "    df.to_csv(\n",
    "        f\"../dist/zeroshot/evals-gen-question-raw-prompt-{k}-{datetime.now().strftime('%Y%m%d')}.csv\",\n",
    "        index=False,\n",
    "    )\n",
    "    print(f\"{k} done :)\")"
   ]
  },
  {
   "cell_type": "code",
   "execution_count": null,
   "metadata": {},
   "outputs": [],
   "source": [
    "from prompts.prompts import generate_question_with_cot_and_rule_prompt_template\n",
    "\n",
    "for k, v in models.items():\n",
    "    e = MultiModelEvaluator(\n",
    "        models=[v], query_template=generate_question_with_cot_and_rule_prompt_template\n",
    "    )\n",
    "    df = e.evals(dataset)\n",
    "\n",
    "    df.to_csv(\n",
    "        f\"../dist/cot_and_rule/evals-gen-question-with-cot-and-rule-prompt-{k}-{datetime.now().strftime('%Y%m%d')}.csv\",\n",
    "        index=False,\n",
    "    )"
   ]
  },
  {
   "cell_type": "code",
   "execution_count": null,
   "metadata": {},
   "outputs": [],
   "source": [
    "from prompts.prompts import generate_question_with_tools_prompt_template\n",
    "\n",
    "for k, v in models.items():\n",
    "    e = MultiModelEvaluator(\n",
    "        models=[v],\n",
    "        query_template=generate_question_with_tools_prompt_template,\n",
    "        use_tools=True,\n",
    "    )\n",
    "    df = e.evals(dataset)\n",
    "\n",
    "    df.to_csv(\n",
    "        f\"../dist/tools/evals-gen-question-with-tools-prompt-{k}-{datetime.now().strftime('%Y%m%d')}.csv\",\n",
    "        index=False,\n",
    "    )"
   ]
  },
  {
   "cell_type": "code",
   "execution_count": null,
   "metadata": {},
   "outputs": [],
   "source": [
    "from evaluator.agents_evaluator import MahjongMultiAgentsEvaluator\n",
    "\n",
    "evaluator = MahjongMultiAgentsEvaluator(runner_type=\"sequential\")\n",
    "\n",
    "df = evaluator.evals(dataset)"
   ]
  },
  {
   "cell_type": "code",
   "execution_count": null,
   "metadata": {},
   "outputs": [],
   "source": [
    "df.to_csv(\n",
    "    f\"../dist/sequencial_multi_agents/evals-gen-question-with-sequential-agent-{datetime.now().strftime('%Y%m%d')}.csv\",\n",
    "    index=False,\n",
    ")"
   ]
  },
  {
   "cell_type": "code",
   "execution_count": null,
   "metadata": {},
   "outputs": [],
   "source": [
    "from evaluator.agents_evaluator import MahjongMultiAgentsEvaluator\n",
    "\n",
    "evaluator = MahjongMultiAgentsEvaluator(runner_type=\"loop\")\n",
    "\n",
    "df = evaluator.evals(dataset)"
   ]
  },
  {
   "cell_type": "code",
   "execution_count": 19,
   "metadata": {},
   "outputs": [],
   "source": [
    "df.to_csv(\n",
    "    f\"../dist/loop_multi_agents/evals-gen-question-with-loop-multi-agents-{datetime.now().strftime('%Y%m%d')}.csv\",\n",
    "    index=False,\n",
    ")"
   ]
  },
  {
   "cell_type": "code",
   "execution_count": 20,
   "metadata": {},
   "outputs": [],
   "source": [
    "import glob\n",
    "\n",
    "\n",
    "def result_by_model(name: str):\n",
    "    csv_files = glob.glob(f\"../dist/{name}/*.csv\")\n",
    "    print(f\"Found {len(csv_files)} CSV files:\")\n",
    "    for file in csv_files:\n",
    "        print(f\"  - {file}\")\n",
    "\n",
    "    # 各ファイルを読み込んでconcat\n",
    "    dfs = []\n",
    "    for file in csv_files:\n",
    "        df = pd.read_csv(file)\n",
    "        # ファイル名からモデル名を抽出\n",
    "        model_name = file.split(\"-\")[-2]  # 例: claude_sonnet\n",
    "        df[\"model\"] = model_name\n",
    "        dfs.append(df)\n",
    "\n",
    "    # 全てのデータを結合\n",
    "    df = pd.concat(dfs, ignore_index=True)\n",
    "\n",
    "    accuracy_by_model = (\n",
    "        df.groupby(\"model\")[\"correct\"].agg([\"count\", \"sum\", \"mean\"]).round(3)\n",
    "    )\n",
    "    accuracy_by_model.columns = [\"総問題数\", \"正解数\", \"正解率\"]\n",
    "    print(\"\\n=== モデルごとの正解率 ===\")\n",
    "    print(accuracy_by_model)\n",
    "\n",
    "    accuracy_by_model = (\n",
    "        df.groupby(\"model\")[\"is_error\"].agg([\"count\", \"sum\", \"mean\"]).round(3)\n",
    "    )\n",
    "    accuracy_by_model.columns = [\"総問題数\", \"エラー数\", \"エラー率\"]\n",
    "    print(\"\\n=== モデルごとのエラー率 ===\")\n",
    "    print(accuracy_by_model)"
   ]
  },
  {
   "cell_type": "code",
   "execution_count": null,
   "metadata": {},
   "outputs": [],
   "source": [
    "result_by_model(\"zeroshot\")"
   ]
  },
  {
   "cell_type": "code",
   "execution_count": null,
   "metadata": {},
   "outputs": [],
   "source": [
    "result_by_model(\"cot_and_rule\")"
   ]
  },
  {
   "cell_type": "code",
   "execution_count": null,
   "metadata": {},
   "outputs": [],
   "source": [
    "result_by_model(\"tools\")"
   ]
  },
  {
   "cell_type": "code",
   "execution_count": null,
   "metadata": {},
   "outputs": [],
   "source": [
    "# result_by_model(\"sequencial_multi_agents\")"
   ]
  },
  {
   "cell_type": "code",
   "execution_count": null,
   "metadata": {},
   "outputs": [],
   "source": [
    "result_by_model(\"loop_multi_agents\")"
   ]
  }
 ],
 "metadata": {
  "kernelspec": {
   "display_name": ".venv",
   "language": "python",
   "name": "python3"
  },
  "language_info": {
   "codemirror_mode": {
    "name": "ipython",
    "version": 3
   },
   "file_extension": ".py",
   "mimetype": "text/x-python",
   "name": "python",
   "nbconvert_exporter": "python",
   "pygments_lexer": "ipython3",
   "version": "3.12.11"
  }
 },
 "nbformat": 4,
 "nbformat_minor": 2
}
