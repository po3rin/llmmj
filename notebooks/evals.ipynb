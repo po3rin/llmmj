{
 "cells": [
  {
   "cell_type": "code",
   "execution_count": 1,
   "metadata": {},
   "outputs": [],
   "source": [
    "\n",
    "import os\n",
    "from dotenv import load_dotenv\n",
    "\n",
    "load_dotenv()\n",
    "\n",
    "if not os.getenv(\"OPENAI_API_KEY\"):\n",
    "    raise ValueError(\"OPENAI_API_KEY is not set in .env file\")\n",
    "if not os.getenv(\"ANTHROPIC_API_KEY\"):\n",
    "    raise ValueError(\"ANTHROPIC_API_KEY is not set in .env file\")\n",
    "if not os.getenv(\"GOOGLE_API_KEY\"):\n",
    "    raise ValueError(\"GOOGLE_API_KEY is not set in .env file\")\n",
    "\n"
   ]
  },
  {
   "cell_type": "code",
   "execution_count": null,
   "metadata": {},
   "outputs": [],
   "source": [
    "\n",
    "\n",
    "import sys\n",
    "import json\n",
    "import asyncio\n",
    "from typing import List, Dict, Any\n",
    "from datetime import datetime\n",
    "import pandas as pd\n",
    "\n",
    "# LangChain関連\n",
    "from langchain.llms import OpenAI\n",
    "from langchain.schema import HumanMessage\n",
    "from langchain.callbacks import get_openai_callback\n",
    "from langchain_anthropic import ChatAnthropic\n",
    "from langchain_openai import ChatOpenAI\n",
    "from langchain_google_genai import ChatGoogleGenerativeAI\n",
    "\n",
    "# OpenAI Evals関連\n",
    "from evals.eval import Eval\n",
    "from evals.registry import Registry\n",
    "from evals.data import get_jsonl\n",
    "\n",
    "# Add the project root directory to Python path\n",
    "project_root = os.path.abspath(os.path.join(os.path.dirname('__file__'), '..'))\n",
    "sys.path.append(project_root)\n",
    "from libs.generator import MahjongQuestionGenerator, generate_question_prompt_template\n",
    "from libs.evals import MahjongEvaluator, MultiModelEvaluator"
   ]
  },
  {
   "cell_type": "code",
   "execution_count": 3,
   "metadata": {},
   "outputs": [],
   "source": [
    "# モデル設定（APIキーが必要）\n",
    "try:\n",
    "    # OpenAI GPT-4\n",
    "    gpt4 = ChatOpenAI(model_name=\"gpt-4o\", temperature=0)\n",
    "    \n",
    "    # Claude (Anthropic APIキーが必要)\n",
    "    claude = ChatAnthropic(model=\"claude-3-sonnet-20240229\", temperature=0)\n",
    "    \n",
    "    # Google Gemini\n",
    "    gemini = ChatGoogleGenerativeAI(model=\"gemini-2.0-flash\", temperature=0)\n",
    "    \n",
    "except Exception as e:\n",
    "    print(f\"モデル初期化エラー: {e}\")\n",
    "    raise e"
   ]
  },
  {
   "cell_type": "code",
   "execution_count": 4,
   "metadata": {},
   "outputs": [],
   "source": [
    "# 評価システム初期化\n",
    "generator = MahjongQuestionGenerator(model=claude, query_template=generate_question_prompt_template)\n",
    "\n",
    "# generator.generate_question(query=\"答えが2翻20符になる問題を作ってください\")"
   ]
  },
  {
   "cell_type": "code",
   "execution_count": 5,
   "metadata": {},
   "outputs": [],
   "source": [
    "# dataset = [\n",
    "#     {\n",
    "#         \"query\": \"答えが2翻40符になる問題を作ってください\",\n",
    "#         \"answer\": {\n",
    "#             \"fu\": 40,\n",
    "#             \"han\": 2\n",
    "#         }\n",
    "#     }\n",
    "# ]"
   ]
  },
  {
   "cell_type": "code",
   "execution_count": 6,
   "metadata": {},
   "outputs": [],
   "source": [
    "# evaluator = MahjongEvaluator(generator=generator)\n",
    "# df = evaluator.evals(dataset=dataset)\n",
    "# df"
   ]
  },
  {
   "cell_type": "code",
   "execution_count": null,
   "metadata": {},
   "outputs": [],
   "source": [
    "# e = MultiModelEvaluator(models=[claude, gemini], query_template=generate_question_prompt_template)\n",
    "# df = e.evals(dataset)\n",
    "# df"
   ]
  },
  {
   "cell_type": "code",
   "execution_count": 9,
   "metadata": {},
   "outputs": [],
   "source": [
    "with open('../dataset/queries.json', 'r') as f:\n",
    "    dataset = json.load(f)"
   ]
  },
  {
   "cell_type": "code",
   "execution_count": 10,
   "metadata": {},
   "outputs": [
    {
     "data": {
      "text/plain": [
       "[{'query': '答えが2飜30符になる問題を作ってください', 'answer': {'fu': 30, 'han': 2}},\n",
       " {'query': '答えが3飜50符になる問題を作ってください', 'answer': {'fu': 50, 'han': 3}},\n",
       " {'query': '答えが4飜60符になる問題を作ってください', 'answer': {'fu': 60, 'han': 4}},\n",
       " {'query': '答えが3飜70符になる問題を作ってください', 'answer': {'fu': 70, 'han': 5}},\n",
       " {'query': '答えが1飜10符になる問題を作ってください', 'answer': {'fu': 10, 'han': 1}}]"
      ]
     },
     "execution_count": 10,
     "metadata": {},
     "output_type": "execute_result"
    }
   ],
   "source": [
    "dataset"
   ]
  },
  {
   "cell_type": "code",
   "execution_count": null,
   "metadata": {},
   "outputs": [],
   "source": [
    "e = MultiModelEvaluator(models=[claude, gemini], query_template=generate_question_prompt_template)\n",
    "df = e.evals(dataset)\n",
    "df"
   ]
  },
  {
   "cell_type": "code",
   "execution_count": null,
   "metadata": {},
   "outputs": [],
   "source": [
    "print(df.groupby('model')['correct'].mean())  # Accuracy by model"
   ]
  }
 ],
 "metadata": {
  "kernelspec": {
   "display_name": ".venv",
   "language": "python",
   "name": "python3"
  },
  "language_info": {
   "codemirror_mode": {
    "name": "ipython",
    "version": 3
   },
   "file_extension": ".py",
   "mimetype": "text/x-python",
   "name": "python",
   "nbconvert_exporter": "python",
   "pygments_lexer": "ipython3",
   "version": "3.12.11"
  }
 },
 "nbformat": 4,
 "nbformat_minor": 2
}
