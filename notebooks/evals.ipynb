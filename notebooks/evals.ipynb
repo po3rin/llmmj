{
 "cells": [
  {
   "cell_type": "code",
   "execution_count": 1,
   "metadata": {},
   "outputs": [],
   "source": [
    "import os\n",
    "from dotenv import load_dotenv\n",
    "\n",
    "load_dotenv()\n",
    "\n",
    "# if not os.getenv(\"OPENAI_API_KEY\"):\n",
    "#     raise ValueError(\"OPENAI_API_KEY is not set in .env file\")\n",
    "if not os.getenv(\"ANTHROPIC_API_KEY\"):\n",
    "    raise ValueError(\"ANTHROPIC_API_KEY is not set in .env file\")\n",
    "if not os.getenv(\"GOOGLE_API_KEY\"):\n",
    "    raise ValueError(\"GOOGLE_API_KEY is not set in .env file\")\n",
    "if not os.getenv(\"DEEPSEEK_API_KEY\"):\n",
    "    raise ValueError(\"DEEPSEEK_API_KEY is not set in .env file\")"
   ]
  },
  {
   "cell_type": "code",
   "execution_count": null,
   "metadata": {},
   "outputs": [],
   "source": [
    "import sys\n",
    "import json\n",
    "import asyncio\n",
    "from typing import List, Dict, Any\n",
    "from datetime import datetime\n",
    "import pandas as pd\n",
    "\n",
    "# LangChain関連\n",
    "from langchain.llms import OpenAI\n",
    "from langchain.schema import HumanMessage\n",
    "from langchain.callbacks import get_openai_callback\n",
    "from langchain_anthropic import ChatAnthropic\n",
    "from langchain_openai import ChatOpenAI\n",
    "from langchain_deepseek import ChatDeepSeek\n",
    "from langchain_google_genai import ChatGoogleGenerativeAI\n",
    "\n",
    "# OpenAI Evals関連\n",
    "from evals.eval import Eval\n",
    "from evals.registry import Registry\n",
    "from evals.data import get_jsonl\n",
    "\n",
    "# Add the project root directory to Python path\n",
    "project_root = os.path.abspath(os.path.join(os.path.dirname(\"__file__\"), \"..\"))\n",
    "sys.path.append(project_root)\n",
    "from generator.generator import MahjongQuestionGenerator\n",
    "from prompts.prompts import (\n",
    "    generate_question_prompt_template,\n",
    "    generate_question_with_cot_prompt_template,\n",
    "    generate_question_with_cot_and_rule_prompt_template,\n",
    "    generate_question_with_tools_prompt_template\n",
    ")\n",
    "from evalutor.evals import MahjongEvaluator, MultiModelEvaluator"
   ]
  },
  {
   "cell_type": "code",
   "execution_count": 3,
   "metadata": {},
   "outputs": [],
   "source": [
    "# Configure logging to see error messages\n",
    "import logging\n",
    "\n",
    "logging.basicConfig(level=logging.INFO)\n",
    "logger = logging.getLogger()"
   ]
  },
  {
   "cell_type": "code",
   "execution_count": 4,
   "metadata": {},
   "outputs": [],
   "source": [
    "# モデル設定（APIキーが必要）\n",
    "try:\n",
    "    # # OpenAI GPT-4\n",
    "    # gpt4 = ChatOpenAI(model_name=\"gpt-4o\", temperature=0)\n",
    "\n",
    "    # Claude (Anthropic APIキーが必要)\n",
    "    claude_sonnet = ChatAnthropic(model=\"claude-sonnet-4-20250514\", temperature=0)\n",
    "    # claude_opus = ChatAnthropic(model=\"claude-opus-4-20250514\", temperature=0)\n",
    "    claude_3_7_sonnet = ChatAnthropic(model=\"claude-3-7-sonnet-20250219\", temperature=0)\n",
    "\n",
    "    # Google Gemini\n",
    "    gemini = ChatGoogleGenerativeAI(\n",
    "        model=\"gemini-2.5-flash-preview-05-20\", temperature=0\n",
    "    )\n",
    "\n",
    "    # DeepSeek\n",
    "    deepseek = ChatDeepSeek(model=\"deepseek-chat\", temperature=0)\n",
    "\n",
    "except Exception as e:\n",
    "    print(f\"モデル初期化エラー: {e}\")\n",
    "    raise e"
   ]
  },
  {
   "cell_type": "code",
   "execution_count": 5,
   "metadata": {},
   "outputs": [],
   "source": [
    "# # 評価システム初期化\n",
    "# generator = MahjongQuestionGenerator(\n",
    "#     model=claude_3_7_sonnet, query_template=generate_question_prompt_template\n",
    "# )\n",
    "\n",
    "# # Use the async version in Jupyter notebook\n",
    "# generator.generate_question(query=\"答えが2翻20符になる問題を作ってください\")"
   ]
  },
  {
   "cell_type": "code",
   "execution_count": null,
   "metadata": {},
   "outputs": [],
   "source": [
    "# 評価システム初期化(with tools)\n",
    "generator = MahjongQuestionGenerator(\n",
    "    model=gemini, use_tools=True, query_template=generate_question_with_tools_prompt_template\n",
    ")\n",
    "\n",
    "# Use the async version in Jupyter notebook\n",
    "generator.generate_question(query=\"答えが2翻70符になる問題を作ってください\")"
   ]
  },
  {
   "cell_type": "code",
   "execution_count": 7,
   "metadata": {},
   "outputs": [],
   "source": [
    "# dataset = [\n",
    "#     {\n",
    "#         \"query\": \"答えが2翻40符になる問題を作ってください\",\n",
    "#         \"answer\": {\n",
    "#             \"fu\": 40,\n",
    "#             \"han\": 2\n",
    "#         }\n",
    "#     }\n",
    "# ]"
   ]
  },
  {
   "cell_type": "code",
   "execution_count": 8,
   "metadata": {},
   "outputs": [],
   "source": [
    "# evaluator = MahjongEvaluator(generator=generator)\n",
    "# df = evaluator.evals(dataset=dataset)\n",
    "# df"
   ]
  },
  {
   "cell_type": "code",
   "execution_count": 9,
   "metadata": {},
   "outputs": [],
   "source": [
    "# e = MultiModelEvaluator(models=[claude_sonnet], query_template=generate_question_prompt_template)\n",
    "# df = e.evals(dataset)\n",
    "# df"
   ]
  },
  {
   "cell_type": "code",
   "execution_count": 10,
   "metadata": {},
   "outputs": [],
   "source": [
    "with open(\"../dataset/queries.json\", \"r\") as f:\n",
    "    dataset = json.load(f)"
   ]
  },
  {
   "cell_type": "code",
   "execution_count": 11,
   "metadata": {},
   "outputs": [],
   "source": [
    "# dataset"
   ]
  },
  {
   "cell_type": "code",
   "execution_count": 12,
   "metadata": {},
   "outputs": [],
   "source": [
    "models = {\n",
    "    \"claude_sonnet\": claude_sonnet,\n",
    "    # \"claude_opus\": claude_opus,\n",
    "    \"gemini\": gemini,\n",
    "    # \"deepseek\": deepseek\n",
    "}"
   ]
  },
  {
   "cell_type": "code",
   "execution_count": 13,
   "metadata": {},
   "outputs": [],
   "source": [
    "# for k, m in models.items():\n",
    "#     e = MultiModelEvaluator(\n",
    "#         models=[m], query_template=generate_question_prompt_template\n",
    "#     )\n",
    "#     df = e.evals(dataset)\n",
    "\n",
    "#     df.to_csv(\n",
    "#         f\"../dist/zeroshot/evals-gen-question-raw-prompt-{k}-{datetime.now().strftime('%Y%m%d')}.csv\",\n",
    "#         index=False,\n",
    "#     )\n",
    "#     print(f\"{k} done :)\")"
   ]
  },
  {
   "cell_type": "code",
   "execution_count": 14,
   "metadata": {},
   "outputs": [],
   "source": [
    "# for k, m in models.items():\n",
    "#     e = MultiModelEvaluator(\n",
    "#         models=[m], query_template=generate_question_with_cot_prompt_template\n",
    "#     )\n",
    "#     df = e.evals(dataset)\n",
    "\n",
    "#     df.to_csv(\n",
    "#         f\"../dist/cot/evals-gen-question-with-cot-prompt-{k}-{datetime.now().strftime('%Y%m%d')}.csv\",\n",
    "#         index=False,\n",
    "#     )\n",
    "#     print(f\"{k} done :)\")"
   ]
  },
  {
   "cell_type": "code",
   "execution_count": 15,
   "metadata": {},
   "outputs": [],
   "source": [
    "# for k, v in models.items():\n",
    "#     e = MultiModelEvaluator(\n",
    "#         models=[v], query_template=generate_question_with_cot_and_rule_prompt_template\n",
    "#     )\n",
    "#     df = e.evals(dataset)\n",
    "\n",
    "#     df.to_csv(\n",
    "#         f\"../dist/cot_and_rule/evals-gen-question-with-cot-and-rule-prompt-{k}-{datetime.now().strftime('%Y%m%d')}.csv\",\n",
    "#         index=False,\n",
    "#     )"
   ]
  },
  {
   "cell_type": "code",
   "execution_count": 16,
   "metadata": {},
   "outputs": [],
   "source": [
    "# for k, v in models.items():\n",
    "#     e = MultiModelEvaluator(\n",
    "#         models=[v], query_template=generate_question_with_tools_prompt_template, use_tools=True\n",
    "#     )\n",
    "#     df = e.evals(dataset)\n",
    "\n",
    "#     df.to_csv(\n",
    "#         f\"../dist/tools/evals-gen-question-with-tools-prompt-{k}-{datetime.now().strftime('%Y%m%d')}.csv\",\n",
    "#         index=False,\n",
    "#     )"
   ]
  },
  {
   "cell_type": "code",
   "execution_count": 17,
   "metadata": {},
   "outputs": [],
   "source": [
    "import glob\n",
    "import pandas as pd\n",
    "\n",
    "def result_by_model(name: str):\n",
    "    # 20250619のファイルを検索\n",
    "    csv_files = glob.glob(f\"../dist/{name}/*.csv\")\n",
    "    print(f\"Found {len(csv_files)} CSV files:\")\n",
    "    for file in csv_files:\n",
    "        print(f\"  - {file}\")\n",
    "\n",
    "    # 各ファイルを読み込んでconcat\n",
    "    dfs = []\n",
    "    for file in csv_files:\n",
    "        df = pd.read_csv(file)\n",
    "        # ファイル名からモデル名を抽出\n",
    "        model_name = file.split('-')[-2]  # 例: claude_sonnet\n",
    "        df['model'] = model_name\n",
    "        dfs.append(df)\n",
    "\n",
    "    # 全てのデータを結合\n",
    "    df = pd.concat(dfs, ignore_index=True)\n",
    "\n",
    "    accuracy_by_model = df.groupby('model')['correct'].agg(['count', 'sum', 'mean']).round(3)\n",
    "    accuracy_by_model.columns = ['総問題数', '正解数', '正解率']\n",
    "    print(\"\\n=== モデルごとの正解率 ===\")\n",
    "    print(accuracy_by_model)\n",
    "\n",
    "    accuracy_by_model = df.groupby('model')['is_error'].agg(['count', 'sum', 'mean']).round(3)\n",
    "    accuracy_by_model.columns = ['総問題数', 'エラー数', 'エラー率']\n",
    "    print(\"\\n=== モデルごとのエラー率 ===\")\n",
    "    print(accuracy_by_model)    \n"
   ]
  },
  {
   "cell_type": "code",
   "execution_count": null,
   "metadata": {},
   "outputs": [],
   "source": [
    "result_by_model(\"zeroshot\")"
   ]
  },
  {
   "cell_type": "code",
   "execution_count": null,
   "metadata": {},
   "outputs": [],
   "source": [
    "result_by_model(\"cot\")"
   ]
  },
  {
   "cell_type": "code",
   "execution_count": null,
   "metadata": {},
   "outputs": [],
   "source": [
    "result_by_model(\"cot_and_rule\")"
   ]
  },
  {
   "cell_type": "code",
   "execution_count": null,
   "metadata": {},
   "outputs": [],
   "source": [
    "result_by_model(\"tools\")"
   ]
  }
 ],
 "metadata": {
  "kernelspec": {
   "display_name": ".venv",
   "language": "python",
   "name": "python3"
  },
  "language_info": {
   "codemirror_mode": {
    "name": "ipython",
    "version": 3
   },
   "file_extension": ".py",
   "mimetype": "text/x-python",
   "name": "python",
   "nbconvert_exporter": "python",
   "pygments_lexer": "ipython3",
   "version": "3.12.11"
  }
 },
 "nbformat": 4,
 "nbformat_minor": 2
}
